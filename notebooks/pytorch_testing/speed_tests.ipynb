{
 "cells": [
  {
   "cell_type": "code",
   "execution_count": 1,
   "metadata": {},
   "outputs": [
    {
     "name": "stdout",
     "output_type": "stream",
     "text": [
      "CPU Time: 4.5861 seconds\n",
      "GPU Time: 0.7719 seconds\n",
      "Speedup: 5.94x (GPU vs CPU)\n"
     ]
    }
   ],
   "source": [
    "import torch\n",
    "import time\n",
    "\n",
    "# Set tensor size\n",
    "size = 10000\n",
    "\n",
    "# CPU Test\n",
    "tensor_cpu = torch.rand((size, size))\n",
    "start_cpu = time.time()\n",
    "result_cpu = torch.matmul(tensor_cpu, tensor_cpu)\n",
    "end_cpu = time.time()\n",
    "cpu_time = end_cpu - start_cpu\n",
    "print(f\"CPU Time: {cpu_time:.4f} seconds\")\n",
    "\n",
    "# GPU Test\n",
    "tensor_gpu = torch.rand((size, size), device=\"cuda\")\n",
    "start_gpu = time.time()\n",
    "result_gpu = torch.matmul(tensor_gpu, tensor_gpu)\n",
    "torch.cuda.synchronize()  # Ensures GPU computation finishes before timing\n",
    "end_gpu = time.time()\n",
    "gpu_time = end_gpu - start_gpu\n",
    "print(f\"GPU Time: {gpu_time:.4f} seconds\")\n",
    "\n",
    "# Speedup factor\n",
    "speedup = cpu_time / gpu_time if gpu_time > 0 else float('inf')\n",
    "print(f\"Speedup: {speedup:.2f}x (GPU vs CPU)\")\n"
   ]
  },
  {
   "cell_type": "code",
   "execution_count": 2,
   "metadata": {},
   "outputs": [
    {
     "name": "stdout",
     "output_type": "stream",
     "text": [
      "CPU Time: 0.3987 sec\n",
      "GPU Time: 0.0395 sec\n"
     ]
    }
   ],
   "source": [
    "import torch\n",
    "import torch.nn as nn\n",
    "\n",
    "# Define a simple model\n",
    "class TestModel(nn.Module):\n",
    "    def __init__(self):\n",
    "        super(TestModel, self).__init__()\n",
    "        self.fc = nn.Linear(1000, 500)\n",
    "\n",
    "    def forward(self, x):\n",
    "        return self.fc(x)\n",
    "\n",
    "# Generate random input\n",
    "input_data = torch.randn(100000, 1000)\n",
    "\n",
    "# CPU Test\n",
    "model_cpu = TestModel()\n",
    "start_cpu = time.time()\n",
    "output_cpu = model_cpu(input_data)\n",
    "end_cpu = time.time()\n",
    "print(f\"CPU Time: {end_cpu - start_cpu:.4f} sec\")\n",
    "\n",
    "# GPU Test\n",
    "model_gpu = TestModel().cuda()\n",
    "input_data_gpu = input_data.cuda()\n",
    "start_gpu = time.time()\n",
    "output_gpu = model_gpu(input_data_gpu)\n",
    "torch.cuda.synchronize()\n",
    "end_gpu = time.time()\n",
    "print(f\"GPU Time: {end_gpu - start_gpu:.4f} sec\")\n"
   ]
  },
  {
   "cell_type": "code",
   "execution_count": null,
   "metadata": {},
   "outputs": [],
   "source": []
  }
 ],
 "metadata": {
  "kernelspec": {
   "display_name": ".venv",
   "language": "python",
   "name": "python3"
  },
  "language_info": {
   "codemirror_mode": {
    "name": "ipython",
    "version": 3
   },
   "file_extension": ".py",
   "mimetype": "text/x-python",
   "name": "python",
   "nbconvert_exporter": "python",
   "pygments_lexer": "ipython3",
   "version": "3.13.1"
  }
 },
 "nbformat": 4,
 "nbformat_minor": 2
}
